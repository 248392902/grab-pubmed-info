{
 "cells": [
  {
   "cell_type": "code",
   "execution_count": 1,
   "metadata": {},
   "outputs": [
    {
     "name": "stdout",
     "output_type": "stream",
     "text": [
      "working directory: C:\\Users\\24839\\Desktop\\script\\get_papers\n"
     ]
    }
   ],
   "source": [
    "from pubmed_utils import *"
   ]
  },
  {
   "cell_type": "code",
   "execution_count": 2,
   "metadata": {},
   "outputs": [],
   "source": [
    "email = \"XX@YY.ZZ\"                                                    #email address\n",
    "search_key_words = \"cancer\"                                           #search key words\n",
    "release_date_cutoff = 365*5                                           #release date cutoff\n",
    "paper_type = \"Article\"                                                #article,review...\n",
    "save_path = \"./paper_donload/paper_info.xlsx\"       #excel save path\n",
    "grab_total = 100                                                      #grab num\n",
    "pdf_savepath = \"./paper_donload/\"                   #pdf save path\n",
    "IF_cutoff = 0                                                         #download papers which IF higher than cutoff"
   ]
  },
  {
   "cell_type": "code",
   "execution_count": 3,
   "metadata": {},
   "outputs": [
    {
     "name": "stderr",
     "output_type": "stream",
     "text": [
      "getting pubmed info:   0%|          | 0/10 [00:00<?, ?it/s]"
     ]
    },
    {
     "name": "stdout",
     "output_type": "stream",
     "text": [
      "Find total: 906803\n"
     ]
    },
    {
     "name": "stderr",
     "output_type": "stream",
     "text": [
      "getting pubmed info: 100%|██████████| 10/10 [00:17<00:00,  1.73s/it]\n",
      "getting IF info:   0%|          | 0/78 [00:00<?, ?it/s]"
     ]
    },
    {
     "name": "stdout",
     "output_type": "stream",
     "text": [
      "main info has been writen to excel!\n"
     ]
    },
    {
     "name": "stderr",
     "output_type": "stream",
     "text": [
      "getting IF info: 100%|██████████| 78/78 [01:43<00:00,  1.33s/it]\n",
      "downloading pdf:   0%|          | 0/100 [00:00<?, ?it/s]"
     ]
    },
    {
     "name": "stdout",
     "output_type": "stream",
     "text": [
      "failure total: 5\n",
      "failure list: ['Lancet Planet Health', 'Aging (Albany NY)', 'Drug Metab Pers Ther', 'Surg Technol Int', 'Methods Mol Biol']\n",
      "IF info has been writen to excel!\n"
     ]
    },
    {
     "name": "stderr",
     "output_type": "stream",
     "text": [
      "downloading pdf: 100%|██████████| 100/100 [09:11<00:00,  5.51s/it]"
     ]
    },
    {
     "name": "stdout",
     "output_type": "stream",
     "text": [
      "successful download:13\n"
     ]
    },
    {
     "name": "stderr",
     "output_type": "stream",
     "text": [
      "\n"
     ]
    }
   ],
   "source": [
    "my_pubmed_utils = pubmed_utils()\n",
    "my_pubmed_utils.get_main_info_into_excel(email, search_key_words, release_date_cutoff, paper_type, grab_total, save_path)\n",
    "print(\"main info has been writen to excel!\")\n",
    "my_pubmed_utils.embed_IF_into_excel(save_path)\n",
    "print(\"IF info has been writen to excel!\")\n",
    "my_pubmed_utils.download_pdf(save_path, pdf_savepath, IF_cutoff)"
   ]
  },
  {
   "cell_type": "markdown",
   "metadata": {},
   "source": [
    "![img](./example_result.jpg)"
   ]
  }
 ],
 "metadata": {
  "kernelspec": {
   "display_name": "Python 3",
   "language": "python",
   "name": "python3"
  },
  "language_info": {
   "codemirror_mode": {
    "name": "ipython",
    "version": 3
   },
   "file_extension": ".py",
   "mimetype": "text/x-python",
   "name": "python",
   "nbconvert_exporter": "python",
   "pygments_lexer": "ipython3",
   "version": "3.7.7"
  }
 },
 "nbformat": 4,
 "nbformat_minor": 4
}
